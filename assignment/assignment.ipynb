{
  "cells": [
    {
      "cell_type": "markdown",
      "metadata": {
        "id": "NGV7GOOx-HC3"
      },
      "source": [
        "# Assignment: Trees\n",
        "Do three questions."
      ]
    },
    {
      "cell_type": "markdown",
      "metadata": {
        "id": "088JEEvj-HC5"
      },
      "source": [
        "**Q1.** Please answer the following questions in your own words.\n",
        "\n",
        "1. How are trees constructed?\n",
        "\n",
        "The basic idea of building a tree is starting with a population and splitting the data into groups with the goal of the instances in those final, narrowed-down groups being the most similar to eachother. At each level of the tree it is determined True or False whether an instance has a certain feature or a certain value of numerical variable and this creates a split.\n",
        "\n",
        "2. How do trees handle non-linear relationships between variables? Compare this to linear models.\n",
        "\n",
        "Trees split the data based on certain \"cutoffs\" for each variable so there is no assumed shape of the correlation between certain variables. Each variable determines the best split at each level of the tree, so the more important aspect is the threshold used for the cutoff rather than just the overall variable itself.\n",
        "\n",
        "3. Why is the Gini a good loss function for categorical target variables?\n",
        "\n",
        "Our goal is to create groups that are as pure (extremely different) as possible and the Gini measures that level of purity. Gini impurity is measured by computing x(1-x) for each group created by each threshold, and sum over each cutoff group. The split with the lowest Gini impurity is the best split. It is a good loss function because it helps to pick the best split.\n",
        "\n",
        "4. Why do trees tend to overfit, and how can this tendency be constrained?\n",
        "\n",
        "Trees have a tendency to overfit because they can keep splitting until each terminal node of the tree has too few or even just 1 overly specific sample. This would show that the tree has overfit to the data. One way to constrain this tendency would be to limit the depth of the tree before it gets to the point of overfitting. Other options include putting a lower bound on impurity so that terminal nodes don't get too pure, or put a limit on how few cases can appear in a terminal node.\n",
        "\n",
        "5. True or false, and explain: Trees only really perform well in situations with lots of categorical variables as features/covariates.\n",
        "\n",
        "Although it is good to have lots of categorical variables for this type of model, I would say this statement is false because trees can perform well for regression as well. One could definitely choose valuable thresholds for numerical values which can perform well when doing splits.\n",
        "\n",
        "6. Why don't most versions of classification/regression tree concept allow for more than two branches after a split?\n",
        "\n",
        "Having only two branch options for a split makes it simpler to keep track of how splits occur, how good the split is, and overall is easier to interpret the results.\n",
        "\n",
        "7. What are some heuristic ways you can examine a tree and decide whether it is probably over- or under-fitting?\n",
        "\n",
        "A tree is probably overfitting if terminal nodes have very small amounts or even just 1 in the sample size. If computed impurity values of groups are high and the tree is very shallow it may be underfitting."
      ]
    },
    {
      "cell_type": "markdown",
      "metadata": {
        "id": "EevRi5h1-HC6"
      },
      "source": [
        "**Q2.** This is a case study on regression and classification trees.\n",
        "\n",
        "1. Load `./data/cars_hw.csv`. How many observations and features/covariates/variables? What are the available variables? Take a look at the first few rows of data.\n",
        "\n",
        "2. For the categorical variables `Make`, `Color`, `Body_type`, `No_of_Owners`, `Fuel_Type`, `Transmission`, and `Transmission_Type`, create dummy/one-hot-encoded representations. For numeric variables, we'll use `Mileage_Run`, `Make_Year`, and `Seating_Capacity`. Our target variable will be `Price`. Make a train-test split of your data.\n",
        "\n",
        "3. From `sklearn.tree`, import the `DecisionTreeRegressor` and `plot_tree`. Use a train-test split to iterate over possible values for `min_samples_leaf`, computing the $R^2$ for each value between 1 and 25. What choice achieves the highest $R^2$ on the test data?\n",
        "\n",
        "4. For the optimal `min_samples_leaf` from 3, regress price on the rest of the features/covariates using the training data. What is your $R^2$ and RMSE on the test set? Plot the dendrogram. Plot the residuals. Is the density of residuals symmetric and centered around 0?\n",
        "\n",
        "4. Run a linear regression of price on the same variables. Which model -- regression tree or linear regression -- performs better on the test set? Why?\n",
        "\n",
        "5. Predict prices using both your tree and your linear model, and make a scatter plot of their values. Describe what you see."
      ]
    },
    {
      "cell_type": "code",
      "source": [
        "import pandas as pd"
      ],
      "metadata": {
        "id": "5Po9JgHrDmTU"
      },
      "execution_count": 1,
      "outputs": []
    },
    {
      "cell_type": "code",
      "source": [
        "# 2.1 load the cars data as raw github link\n",
        "link = 'https://raw.githubusercontent.com/kpunsalan8/trees-KP/refs/heads/main/assignment/data/cars_hw.csv'\n",
        "df = pd.read_csv(link)"
      ],
      "metadata": {
        "id": "G_CdEXEX-oy4"
      },
      "execution_count": 2,
      "outputs": []
    },
    {
      "cell_type": "code",
      "source": [
        "# how many observations are in the data\n",
        "len(df)\n",
        "\n",
        "# how many features/covariates/variables are in the data\n",
        "len(df.columns)\n",
        "\n",
        "# what are the available variables\n",
        "df.columns"
      ],
      "metadata": {
        "colab": {
          "base_uri": "https://localhost:8080/"
        },
        "id": "-PBNTkqC-rBq",
        "outputId": "71167c5a-dc6e-4527-cb00-d4f05ba31c91"
      },
      "execution_count": 4,
      "outputs": [
        {
          "output_type": "execute_result",
          "data": {
            "text/plain": [
              "Index(['Unnamed: 0', 'Make', 'Make_Year', 'Color', 'Body_Type', 'Mileage_Run',\n",
              "       'No_of_Owners', 'Seating_Capacity', 'Fuel_Type', 'Transmission',\n",
              "       'Transmission_Type', 'Price'],\n",
              "      dtype='object')"
            ]
          },
          "metadata": {},
          "execution_count": 4
        }
      ]
    },
    {
      "cell_type": "code",
      "source": [
        "# peek at first few rows\n",
        "df.head()"
      ],
      "metadata": {
        "id": "4j7fTNN3EHfv",
        "outputId": "f7280b65-8e90-424c-de36-08ed53b57f04",
        "colab": {
          "base_uri": "https://localhost:8080/",
          "height": 244
        }
      },
      "execution_count": 5,
      "outputs": [
        {
          "output_type": "execute_result",
          "data": {
            "text/plain": [
              "   Unnamed: 0        Make  Make_Year   Color  Body_Type  Mileage_Run  \\\n",
              "0           1  Volkswagen       2017  silver      sedan        44611   \n",
              "1           2     Hyundai       2016     red  crossover        20305   \n",
              "2           3       Honda       2019   white        suv        29540   \n",
              "3           4     Renault       2017  bronze  hatchback        35680   \n",
              "4           5     Hyundai       2017  orange  hatchback        25126   \n",
              "\n",
              "  No_of_Owners  Seating_Capacity Fuel_Type Transmission Transmission_Type  \\\n",
              "0          1st                 5    diesel      7-Speed         Automatic   \n",
              "1          1st                 5    petrol      5-Speed            Manual   \n",
              "2          2nd                 5    petrol      5-Speed            Manual   \n",
              "3          1st                 5    petrol      5-Speed            Manual   \n",
              "4          1st                 5    petrol      5-Speed            Manual   \n",
              "\n",
              "    Price  \n",
              "0  657000  \n",
              "1  682000  \n",
              "2  793000  \n",
              "3  414000  \n",
              "4  515000  "
            ],
            "text/html": [
              "\n",
              "  <div id=\"df-d2e8de6c-a474-4e66-8db5-a0e5f772593b\" class=\"colab-df-container\">\n",
              "    <div>\n",
              "<style scoped>\n",
              "    .dataframe tbody tr th:only-of-type {\n",
              "        vertical-align: middle;\n",
              "    }\n",
              "\n",
              "    .dataframe tbody tr th {\n",
              "        vertical-align: top;\n",
              "    }\n",
              "\n",
              "    .dataframe thead th {\n",
              "        text-align: right;\n",
              "    }\n",
              "</style>\n",
              "<table border=\"1\" class=\"dataframe\">\n",
              "  <thead>\n",
              "    <tr style=\"text-align: right;\">\n",
              "      <th></th>\n",
              "      <th>Unnamed: 0</th>\n",
              "      <th>Make</th>\n",
              "      <th>Make_Year</th>\n",
              "      <th>Color</th>\n",
              "      <th>Body_Type</th>\n",
              "      <th>Mileage_Run</th>\n",
              "      <th>No_of_Owners</th>\n",
              "      <th>Seating_Capacity</th>\n",
              "      <th>Fuel_Type</th>\n",
              "      <th>Transmission</th>\n",
              "      <th>Transmission_Type</th>\n",
              "      <th>Price</th>\n",
              "    </tr>\n",
              "  </thead>\n",
              "  <tbody>\n",
              "    <tr>\n",
              "      <th>0</th>\n",
              "      <td>1</td>\n",
              "      <td>Volkswagen</td>\n",
              "      <td>2017</td>\n",
              "      <td>silver</td>\n",
              "      <td>sedan</td>\n",
              "      <td>44611</td>\n",
              "      <td>1st</td>\n",
              "      <td>5</td>\n",
              "      <td>diesel</td>\n",
              "      <td>7-Speed</td>\n",
              "      <td>Automatic</td>\n",
              "      <td>657000</td>\n",
              "    </tr>\n",
              "    <tr>\n",
              "      <th>1</th>\n",
              "      <td>2</td>\n",
              "      <td>Hyundai</td>\n",
              "      <td>2016</td>\n",
              "      <td>red</td>\n",
              "      <td>crossover</td>\n",
              "      <td>20305</td>\n",
              "      <td>1st</td>\n",
              "      <td>5</td>\n",
              "      <td>petrol</td>\n",
              "      <td>5-Speed</td>\n",
              "      <td>Manual</td>\n",
              "      <td>682000</td>\n",
              "    </tr>\n",
              "    <tr>\n",
              "      <th>2</th>\n",
              "      <td>3</td>\n",
              "      <td>Honda</td>\n",
              "      <td>2019</td>\n",
              "      <td>white</td>\n",
              "      <td>suv</td>\n",
              "      <td>29540</td>\n",
              "      <td>2nd</td>\n",
              "      <td>5</td>\n",
              "      <td>petrol</td>\n",
              "      <td>5-Speed</td>\n",
              "      <td>Manual</td>\n",
              "      <td>793000</td>\n",
              "    </tr>\n",
              "    <tr>\n",
              "      <th>3</th>\n",
              "      <td>4</td>\n",
              "      <td>Renault</td>\n",
              "      <td>2017</td>\n",
              "      <td>bronze</td>\n",
              "      <td>hatchback</td>\n",
              "      <td>35680</td>\n",
              "      <td>1st</td>\n",
              "      <td>5</td>\n",
              "      <td>petrol</td>\n",
              "      <td>5-Speed</td>\n",
              "      <td>Manual</td>\n",
              "      <td>414000</td>\n",
              "    </tr>\n",
              "    <tr>\n",
              "      <th>4</th>\n",
              "      <td>5</td>\n",
              "      <td>Hyundai</td>\n",
              "      <td>2017</td>\n",
              "      <td>orange</td>\n",
              "      <td>hatchback</td>\n",
              "      <td>25126</td>\n",
              "      <td>1st</td>\n",
              "      <td>5</td>\n",
              "      <td>petrol</td>\n",
              "      <td>5-Speed</td>\n",
              "      <td>Manual</td>\n",
              "      <td>515000</td>\n",
              "    </tr>\n",
              "  </tbody>\n",
              "</table>\n",
              "</div>\n",
              "    <div class=\"colab-df-buttons\">\n",
              "\n",
              "  <div class=\"colab-df-container\">\n",
              "    <button class=\"colab-df-convert\" onclick=\"convertToInteractive('df-d2e8de6c-a474-4e66-8db5-a0e5f772593b')\"\n",
              "            title=\"Convert this dataframe to an interactive table.\"\n",
              "            style=\"display:none;\">\n",
              "\n",
              "  <svg xmlns=\"http://www.w3.org/2000/svg\" height=\"24px\" viewBox=\"0 -960 960 960\">\n",
              "    <path d=\"M120-120v-720h720v720H120Zm60-500h600v-160H180v160Zm220 220h160v-160H400v160Zm0 220h160v-160H400v160ZM180-400h160v-160H180v160Zm440 0h160v-160H620v160ZM180-180h160v-160H180v160Zm440 0h160v-160H620v160Z\"/>\n",
              "  </svg>\n",
              "    </button>\n",
              "\n",
              "  <style>\n",
              "    .colab-df-container {\n",
              "      display:flex;\n",
              "      gap: 12px;\n",
              "    }\n",
              "\n",
              "    .colab-df-convert {\n",
              "      background-color: #E8F0FE;\n",
              "      border: none;\n",
              "      border-radius: 50%;\n",
              "      cursor: pointer;\n",
              "      display: none;\n",
              "      fill: #1967D2;\n",
              "      height: 32px;\n",
              "      padding: 0 0 0 0;\n",
              "      width: 32px;\n",
              "    }\n",
              "\n",
              "    .colab-df-convert:hover {\n",
              "      background-color: #E2EBFA;\n",
              "      box-shadow: 0px 1px 2px rgba(60, 64, 67, 0.3), 0px 1px 3px 1px rgba(60, 64, 67, 0.15);\n",
              "      fill: #174EA6;\n",
              "    }\n",
              "\n",
              "    .colab-df-buttons div {\n",
              "      margin-bottom: 4px;\n",
              "    }\n",
              "\n",
              "    [theme=dark] .colab-df-convert {\n",
              "      background-color: #3B4455;\n",
              "      fill: #D2E3FC;\n",
              "    }\n",
              "\n",
              "    [theme=dark] .colab-df-convert:hover {\n",
              "      background-color: #434B5C;\n",
              "      box-shadow: 0px 1px 3px 1px rgba(0, 0, 0, 0.15);\n",
              "      filter: drop-shadow(0px 1px 2px rgba(0, 0, 0, 0.3));\n",
              "      fill: #FFFFFF;\n",
              "    }\n",
              "  </style>\n",
              "\n",
              "    <script>\n",
              "      const buttonEl =\n",
              "        document.querySelector('#df-d2e8de6c-a474-4e66-8db5-a0e5f772593b button.colab-df-convert');\n",
              "      buttonEl.style.display =\n",
              "        google.colab.kernel.accessAllowed ? 'block' : 'none';\n",
              "\n",
              "      async function convertToInteractive(key) {\n",
              "        const element = document.querySelector('#df-d2e8de6c-a474-4e66-8db5-a0e5f772593b');\n",
              "        const dataTable =\n",
              "          await google.colab.kernel.invokeFunction('convertToInteractive',\n",
              "                                                    [key], {});\n",
              "        if (!dataTable) return;\n",
              "\n",
              "        const docLinkHtml = 'Like what you see? Visit the ' +\n",
              "          '<a target=\"_blank\" href=https://colab.research.google.com/notebooks/data_table.ipynb>data table notebook</a>'\n",
              "          + ' to learn more about interactive tables.';\n",
              "        element.innerHTML = '';\n",
              "        dataTable['output_type'] = 'display_data';\n",
              "        await google.colab.output.renderOutput(dataTable, element);\n",
              "        const docLink = document.createElement('div');\n",
              "        docLink.innerHTML = docLinkHtml;\n",
              "        element.appendChild(docLink);\n",
              "      }\n",
              "    </script>\n",
              "  </div>\n",
              "\n",
              "\n",
              "<div id=\"df-fcc99816-49bb-458c-ab89-51069ba40720\">\n",
              "  <button class=\"colab-df-quickchart\" onclick=\"quickchart('df-fcc99816-49bb-458c-ab89-51069ba40720')\"\n",
              "            title=\"Suggest charts\"\n",
              "            style=\"display:none;\">\n",
              "\n",
              "<svg xmlns=\"http://www.w3.org/2000/svg\" height=\"24px\"viewBox=\"0 0 24 24\"\n",
              "     width=\"24px\">\n",
              "    <g>\n",
              "        <path d=\"M19 3H5c-1.1 0-2 .9-2 2v14c0 1.1.9 2 2 2h14c1.1 0 2-.9 2-2V5c0-1.1-.9-2-2-2zM9 17H7v-7h2v7zm4 0h-2V7h2v10zm4 0h-2v-4h2v4z\"/>\n",
              "    </g>\n",
              "</svg>\n",
              "  </button>\n",
              "\n",
              "<style>\n",
              "  .colab-df-quickchart {\n",
              "      --bg-color: #E8F0FE;\n",
              "      --fill-color: #1967D2;\n",
              "      --hover-bg-color: #E2EBFA;\n",
              "      --hover-fill-color: #174EA6;\n",
              "      --disabled-fill-color: #AAA;\n",
              "      --disabled-bg-color: #DDD;\n",
              "  }\n",
              "\n",
              "  [theme=dark] .colab-df-quickchart {\n",
              "      --bg-color: #3B4455;\n",
              "      --fill-color: #D2E3FC;\n",
              "      --hover-bg-color: #434B5C;\n",
              "      --hover-fill-color: #FFFFFF;\n",
              "      --disabled-bg-color: #3B4455;\n",
              "      --disabled-fill-color: #666;\n",
              "  }\n",
              "\n",
              "  .colab-df-quickchart {\n",
              "    background-color: var(--bg-color);\n",
              "    border: none;\n",
              "    border-radius: 50%;\n",
              "    cursor: pointer;\n",
              "    display: none;\n",
              "    fill: var(--fill-color);\n",
              "    height: 32px;\n",
              "    padding: 0;\n",
              "    width: 32px;\n",
              "  }\n",
              "\n",
              "  .colab-df-quickchart:hover {\n",
              "    background-color: var(--hover-bg-color);\n",
              "    box-shadow: 0 1px 2px rgba(60, 64, 67, 0.3), 0 1px 3px 1px rgba(60, 64, 67, 0.15);\n",
              "    fill: var(--button-hover-fill-color);\n",
              "  }\n",
              "\n",
              "  .colab-df-quickchart-complete:disabled,\n",
              "  .colab-df-quickchart-complete:disabled:hover {\n",
              "    background-color: var(--disabled-bg-color);\n",
              "    fill: var(--disabled-fill-color);\n",
              "    box-shadow: none;\n",
              "  }\n",
              "\n",
              "  .colab-df-spinner {\n",
              "    border: 2px solid var(--fill-color);\n",
              "    border-color: transparent;\n",
              "    border-bottom-color: var(--fill-color);\n",
              "    animation:\n",
              "      spin 1s steps(1) infinite;\n",
              "  }\n",
              "\n",
              "  @keyframes spin {\n",
              "    0% {\n",
              "      border-color: transparent;\n",
              "      border-bottom-color: var(--fill-color);\n",
              "      border-left-color: var(--fill-color);\n",
              "    }\n",
              "    20% {\n",
              "      border-color: transparent;\n",
              "      border-left-color: var(--fill-color);\n",
              "      border-top-color: var(--fill-color);\n",
              "    }\n",
              "    30% {\n",
              "      border-color: transparent;\n",
              "      border-left-color: var(--fill-color);\n",
              "      border-top-color: var(--fill-color);\n",
              "      border-right-color: var(--fill-color);\n",
              "    }\n",
              "    40% {\n",
              "      border-color: transparent;\n",
              "      border-right-color: var(--fill-color);\n",
              "      border-top-color: var(--fill-color);\n",
              "    }\n",
              "    60% {\n",
              "      border-color: transparent;\n",
              "      border-right-color: var(--fill-color);\n",
              "    }\n",
              "    80% {\n",
              "      border-color: transparent;\n",
              "      border-right-color: var(--fill-color);\n",
              "      border-bottom-color: var(--fill-color);\n",
              "    }\n",
              "    90% {\n",
              "      border-color: transparent;\n",
              "      border-bottom-color: var(--fill-color);\n",
              "    }\n",
              "  }\n",
              "</style>\n",
              "\n",
              "  <script>\n",
              "    async function quickchart(key) {\n",
              "      const quickchartButtonEl =\n",
              "        document.querySelector('#' + key + ' button');\n",
              "      quickchartButtonEl.disabled = true;  // To prevent multiple clicks.\n",
              "      quickchartButtonEl.classList.add('colab-df-spinner');\n",
              "      try {\n",
              "        const charts = await google.colab.kernel.invokeFunction(\n",
              "            'suggestCharts', [key], {});\n",
              "      } catch (error) {\n",
              "        console.error('Error during call to suggestCharts:', error);\n",
              "      }\n",
              "      quickchartButtonEl.classList.remove('colab-df-spinner');\n",
              "      quickchartButtonEl.classList.add('colab-df-quickchart-complete');\n",
              "    }\n",
              "    (() => {\n",
              "      let quickchartButtonEl =\n",
              "        document.querySelector('#df-fcc99816-49bb-458c-ab89-51069ba40720 button');\n",
              "      quickchartButtonEl.style.display =\n",
              "        google.colab.kernel.accessAllowed ? 'block' : 'none';\n",
              "    })();\n",
              "  </script>\n",
              "</div>\n",
              "\n",
              "    </div>\n",
              "  </div>\n"
            ],
            "application/vnd.google.colaboratory.intrinsic+json": {
              "type": "dataframe",
              "variable_name": "df",
              "summary": "{\n  \"name\": \"df\",\n  \"rows\": 976,\n  \"fields\": [\n    {\n      \"column\": \"Unnamed: 0\",\n      \"properties\": {\n        \"dtype\": \"number\",\n        \"std\": 281,\n        \"min\": 1,\n        \"max\": 976,\n        \"num_unique_values\": 976,\n        \"samples\": [\n          200,\n          542,\n          175\n        ],\n        \"semantic_type\": \"\",\n        \"description\": \"\"\n      }\n    },\n    {\n      \"column\": \"Make\",\n      \"properties\": {\n        \"dtype\": \"category\",\n        \"num_unique_values\": 16,\n        \"samples\": [\n          \"Volkswagen\",\n          \"Hyundai\",\n          \"Chevrolet\"\n        ],\n        \"semantic_type\": \"\",\n        \"description\": \"\"\n      }\n    },\n    {\n      \"column\": \"Make_Year\",\n      \"properties\": {\n        \"dtype\": \"number\",\n        \"std\": 2,\n        \"min\": 2011,\n        \"max\": 2022,\n        \"num_unique_values\": 12,\n        \"samples\": [\n          2011,\n          2014,\n          2017\n        ],\n        \"semantic_type\": \"\",\n        \"description\": \"\"\n      }\n    },\n    {\n      \"column\": \"Color\",\n      \"properties\": {\n        \"dtype\": \"category\",\n        \"num_unique_values\": 15,\n        \"samples\": [\n          \"brown\",\n          \"black\",\n          \"silver\"\n        ],\n        \"semantic_type\": \"\",\n        \"description\": \"\"\n      }\n    },\n    {\n      \"column\": \"Body_Type\",\n      \"properties\": {\n        \"dtype\": \"category\",\n        \"num_unique_values\": 5,\n        \"samples\": [\n          \"crossover\",\n          \"muv\",\n          \"suv\"\n        ],\n        \"semantic_type\": \"\",\n        \"description\": \"\"\n      }\n    },\n    {\n      \"column\": \"Mileage_Run\",\n      \"properties\": {\n        \"dtype\": \"number\",\n        \"std\": 24390,\n        \"min\": 1117,\n        \"max\": 99495,\n        \"num_unique_values\": 878,\n        \"samples\": [\n          16240,\n          23724,\n          43273\n        ],\n        \"semantic_type\": \"\",\n        \"description\": \"\"\n      }\n    },\n    {\n      \"column\": \"No_of_Owners\",\n      \"properties\": {\n        \"dtype\": \"category\",\n        \"num_unique_values\": 3,\n        \"samples\": [\n          \"1st\",\n          \"2nd\",\n          \"3rd\"\n        ],\n        \"semantic_type\": \"\",\n        \"description\": \"\"\n      }\n    },\n    {\n      \"column\": \"Seating_Capacity\",\n      \"properties\": {\n        \"dtype\": \"number\",\n        \"std\": 0,\n        \"min\": 4,\n        \"max\": 8,\n        \"num_unique_values\": 5,\n        \"samples\": [\n          7,\n          4,\n          8\n        ],\n        \"semantic_type\": \"\",\n        \"description\": \"\"\n      }\n    },\n    {\n      \"column\": \"Fuel_Type\",\n      \"properties\": {\n        \"dtype\": \"category\",\n        \"num_unique_values\": 3,\n        \"samples\": [\n          \"diesel\",\n          \"petrol\",\n          \"petrol+cng\"\n        ],\n        \"semantic_type\": \"\",\n        \"description\": \"\"\n      }\n    },\n    {\n      \"column\": \"Transmission\",\n      \"properties\": {\n        \"dtype\": \"category\",\n        \"num_unique_values\": 5,\n        \"samples\": [\n          \"5-Speed\",\n          \"4-Speed\",\n          \"6-Speed\"\n        ],\n        \"semantic_type\": \"\",\n        \"description\": \"\"\n      }\n    },\n    {\n      \"column\": \"Transmission_Type\",\n      \"properties\": {\n        \"dtype\": \"category\",\n        \"num_unique_values\": 2,\n        \"samples\": [\n          \"Manual\",\n          \"Automatic\"\n        ],\n        \"semantic_type\": \"\",\n        \"description\": \"\"\n      }\n    },\n    {\n      \"column\": \"Price\",\n      \"properties\": {\n        \"dtype\": \"number\",\n        \"std\": 367323,\n        \"min\": 188000,\n        \"max\": 2941000,\n        \"num_unique_values\": 585,\n        \"samples\": [\n          423000,\n          290000\n        ],\n        \"semantic_type\": \"\",\n        \"description\": \"\"\n      }\n    }\n  ]\n}"
            }
          },
          "metadata": {},
          "execution_count": 5
        }
      ]
    },
    {
      "cell_type": "code",
      "source": [
        "# 2.2 make categorical vars dummy"
      ],
      "metadata": {
        "id": "HBMN2sseBY8h"
      },
      "execution_count": null,
      "outputs": []
    },
    {
      "cell_type": "code",
      "source": [
        "# train test split\n",
        "# target = Price"
      ],
      "metadata": {
        "id": "tOvvRvERBgfd"
      },
      "execution_count": null,
      "outputs": []
    },
    {
      "cell_type": "code",
      "source": [
        "# 2.3 From sklearn.tree, import the DecisionTreeRegressor and plot_tree"
      ],
      "metadata": {
        "id": "vQhTDaDfBqxG"
      },
      "execution_count": null,
      "outputs": []
    },
    {
      "cell_type": "code",
      "source": [
        "# iterate over possible values for min_samples_leaf\n",
        "# computing the  𝑅2  for each value between 1 and 25"
      ],
      "metadata": {
        "id": "P2AL6MN7ButQ"
      },
      "execution_count": null,
      "outputs": []
    },
    {
      "cell_type": "markdown",
      "source": [
        "**What choice achieves the highest  𝑅2  on the test data?**"
      ],
      "metadata": {
        "id": "8nsEdtujB0x7"
      }
    },
    {
      "cell_type": "code",
      "source": [
        "# 2.4 regress price on the rest of the features/covariates"
      ],
      "metadata": {
        "id": "u6qV4jeHB4GZ"
      },
      "execution_count": null,
      "outputs": []
    },
    {
      "cell_type": "code",
      "source": [
        "# What is your  𝑅2  and RMSE on the test set?"
      ],
      "metadata": {
        "id": "8Pv20_YnB97X"
      },
      "execution_count": null,
      "outputs": []
    },
    {
      "cell_type": "code",
      "source": [
        "# Plot the dendrogram"
      ],
      "metadata": {
        "id": "OqwEiJKRCAhw"
      },
      "execution_count": null,
      "outputs": []
    },
    {
      "cell_type": "code",
      "source": [
        "# Plot the residuals"
      ],
      "metadata": {
        "id": "b1e6AW7iCBBC"
      },
      "execution_count": null,
      "outputs": []
    },
    {
      "cell_type": "markdown",
      "source": [
        "**Is the density of residuals symmetric and centered around 0?**"
      ],
      "metadata": {
        "id": "sagS5E4DCFG8"
      }
    },
    {
      "cell_type": "code",
      "source": [
        "# 2.5 Run a linear regression of price on the same variables"
      ],
      "metadata": {
        "id": "6OtFuiuuCJL-"
      },
      "execution_count": null,
      "outputs": []
    },
    {
      "cell_type": "markdown",
      "source": [
        "**Which model -- regression tree or linear regression -- performs better on the test set? Why?**"
      ],
      "metadata": {
        "id": "lOWXzPDDCMNs"
      }
    },
    {
      "cell_type": "code",
      "source": [
        "# 2.6 Predict prices using both your tree and your linear model\n",
        "# make a scatter plot of their values"
      ],
      "metadata": {
        "id": "6O0hWIdGCQHt"
      },
      "execution_count": null,
      "outputs": []
    },
    {
      "cell_type": "markdown",
      "source": [
        "**Describe what you see.**"
      ],
      "metadata": {
        "id": "ntWu7uKsCVEd"
      }
    },
    {
      "cell_type": "markdown",
      "metadata": {
        "id": "6IaVX88B-HC6"
      },
      "source": [
        "**Q3.** This is a case study about classification and regression trees.\n",
        "\n",
        "1. Load the `Breast Cancer METABRIC.csv` dataset. How many observations and variables does it contain? Print out the first few rows of data.\n",
        "\n",
        "2.  We'll use a consistent set of feature/explanatory variables. For numeric variables, we'll include `Tumor Size`, `Lymph nodes examined positive`, `Age at Diagnosis`. For categorical variables, we'll include `Tumor Stage`, `Chemotherapy`, and `Cancer Type Detailed`. One-hot-encode the categorical variables and concatenate them with the numeric variables into a feature/covariate matrix, $X$.\n",
        "\n",
        "3. Let's predict `Overall Survival Status` given the features/covariates $X$. There are 528 missing values, unfortunately: Either drop those rows from your data or add them as a category to predict. Constrain the minimum samples per leaf to 10. Print a dendrogram of the tree. Print a confusion matrix of the algorithm's performance. What is the accuracy?\n",
        "\n",
        "4. For your model in part three, compute three statistics:\n",
        "    - The **true positive rate** or **sensitivity**:\n",
        "        $$\n",
        "        TPR = \\dfrac{TP}{TP+FN}\n",
        "        $$\n",
        "    - The **true negative rate** or **specificity**:\n",
        "        $$\n",
        "        TNR = \\dfrac{TN}{TN+FP}\n",
        "        $$\n",
        "    Does your model tend to perform better with respect to one of these metrics?\n",
        "\n",
        "5. Let's predict `Overall Survival (Months)` given the features/covariates $X$. Use the train/test split to pick the optimal `min_samples_leaf` value that gives the highest $R^2$ on the test set (it's about 110). What is the $R^2$? Plot the test values against the predicted values. How do you feel about this model for clinical purposes?"
      ]
    },
    {
      "cell_type": "markdown",
      "metadata": {
        "id": "tAEzDvDf-HC6"
      },
      "source": [
        "**Q4.** This is a case study about trees using bond rating data. This is a dataset about bond ratings for different companies, alongside a bunch of business statistics and other data. Companies often have multiple reviews at different dates. We want to predict the bond rating (AAA, AA, A, BBB, BB, B, ..., C, D). Do business fundamentals predict the company's rating?\n",
        "\n",
        "1. Load the `./data/corporate_ratings.csv` dataset. How many observations and variables does it contain? Print out the first few rows of data.\n",
        "\n",
        "2.  Plot a histogram of the `ratings` variable. It turns out that the gradations of AAA/AA/A and BBB/BB/B and so on make it hard to get good results with trees. Collapse all AAA/AA/A ratings into just A, and similarly for B and C.\n",
        "\n",
        "3. Use all of the variables **except** Rating, Date, Name, Symbol, and Rating Agency Name. To include Sector, make a dummy/one-hot-encoded representation and include it in your features/covariates. Collect the relevant variables into a data matrix $X$.\n",
        "\n",
        "4. Do a train/test split of the data and use a decision tree classifier to predict the bond rating. Including a min_samples_leaf constraint can raise the accuracy and speed up computation time. Print a confusion matrix and the accuracy of your model. How well do you predict the different bond ratings?\n",
        "\n",
        "5. If you include the rating agency as a feature/covariate/predictor variable, do the results change? How do you interpret this?"
      ]
    },
    {
      "cell_type": "markdown",
      "metadata": {
        "id": "WlbKq1Fm-HC7"
      },
      "source": [
        "**Q5.** This is a case study about detecting fraud using classification trees. The goal is to predict the `class` variable, which is 0 for non-fraud and 1 for fraud.\n",
        "\n",
        "1. Open `./data/creditcard_fraud.csv`. Print the number of observations and variables, and look at the first few rows of data. The variables are already normalized and de-identified, and are just called things like `V8` to protect the privacy of the clients.\n",
        "\n",
        "2. Print a table of counts for the `class` variable and make a histogram. What percentage of transactions are fraudulent?\n",
        "\n",
        "3. Drop `Time` and make a decision tree classifier to predict fraud. Print a confusion table and compute the accuracy. This is a serious **class imbalance** problem: The minority class is so small that essentially predicting 0's for all cases will achieve an extremely high accuracy. There are over-sampling techniques to deal with this issue, but we don't have time to cover them in class.\n",
        "\n",
        "4. Imagine that you block every transaction in the test set labelled as fraudulent. How much money is (1) saved that should be saved, (2) lost to fraud anyway, (3) withheld in error from customers? Does implementing this anti-fraud system seem like a good idea, or not? Why?\n",
        "\n",
        "5. Instead of predicting fraud, predict loss: Multiple the `Class` variable times the `Amount` variable, and call it `Loss`. Predict it using a decision tree regressor (making sure to drop Class, Time, and Loss from the features/covariates/predictors). What $R^2$ and RMSE do you get? Make a scatterplot of the predicted values on the test group versus the actual test values. Do you notice any interesting patterns? How could you use this algorithm to decide which transactions to block, and why?\n"
      ]
    },
    {
      "cell_type": "markdown",
      "metadata": {
        "vscode": {
          "languageId": "plaintext"
        },
        "id": "oyuBBM3d-HC7"
      },
      "source": [
        "**Q6.** Show that any decision tree is equivalent to a linear regression on a set of dummy variables that represent the optimal splits in the tree.\n",
        "\n",
        "Hint: You can think of CART as partitioning the feature space into a set of sets $\\{S_1, S_2, ..., S_K\\}$, and then predicting the average for all of the observations in each set $S_k$, $m_k$:\n",
        "$$\n",
        "\\hat{y}(x) = \\sum_{k=1}^K \\mathbb{I}\\{ x \\text{ is in } S_k \\} m_k\n",
        "$$\n",
        "where $\\mathbb{I} \\{ P(x,k)\\}$ takes the value 1 if the proposition $P(x,k)$ is true and 0 otherwise. Now, doesn't that look like least-squares regression on a set of dummy/one-hot-encoded variables?\n",
        "\n",
        "Conversely, can any linear regression be represented by a tree?"
      ]
    }
  ],
  "metadata": {
    "kernelspec": {
      "display_name": "base",
      "language": "python",
      "name": "python3"
    },
    "language_info": {
      "codemirror_mode": {
        "name": "ipython",
        "version": 3
      },
      "file_extension": ".py",
      "mimetype": "text/x-python",
      "name": "python",
      "nbconvert_exporter": "python",
      "pygments_lexer": "ipython3",
      "version": "3.12.2"
    },
    "colab": {
      "provenance": []
    }
  },
  "nbformat": 4,
  "nbformat_minor": 0
}